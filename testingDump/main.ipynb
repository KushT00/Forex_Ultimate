{
 "cells": [
  {
   "cell_type": "code",
   "execution_count": 20,
   "id": "37f211f0",
   "metadata": {},
   "outputs": [],
   "source": [
    "import MetaTrader5 as mt5\n",
    "import pandas as pd"
   ]
  },
  {
   "cell_type": "code",
   "execution_count": 21,
   "id": "1e4f833f",
   "metadata": {},
   "outputs": [
    {
     "data": {
      "text/plain": [
       "True"
      ]
     },
     "execution_count": 21,
     "metadata": {},
     "output_type": "execute_result"
    }
   ],
   "source": [
    "mt5.initialize()"
   ]
  },
  {
   "cell_type": "code",
   "execution_count": 38,
   "id": "1eee0529",
   "metadata": {},
   "outputs": [
    {
     "name": "stdout",
     "output_type": "stream",
     "text": [
      "                 time     open     high      low    close  tick_volume  \\\n",
      "0 2025-08-29 13:00:00  3407.42  3408.81  3404.71  3405.52         3466   \n",
      "1 2025-08-29 14:00:00  3405.54  3411.26  3404.36  3410.69         3660   \n",
      "2 2025-08-29 15:00:00  3410.74  3416.86  3406.68  3416.49         4752   \n",
      "3 2025-08-29 16:00:00  3416.75  3429.06  3413.69  3428.65         5391   \n",
      "4 2025-08-29 17:00:00  3429.27  3440.94  3429.17  3440.90         5734   \n",
      "5 2025-08-29 18:00:00  3441.03  3441.41  3439.81  3440.91          503   \n",
      "\n",
      "   spread  real_volume  \n",
      "0      12            0  \n",
      "1       9            0  \n",
      "2       5            0  \n",
      "3       5            0  \n",
      "4       5            0  \n",
      "5      12            0  \n"
     ]
    }
   ],
   "source": [
    "\n",
    "# Get last 6 candles of XAUUSD on H1 timeframe\n",
    "prices = mt5.copy_rates_from_pos(\"XAUUSD\", mt5.TIMEFRAME_H1, 0, 6)\n",
    "\n",
    "# Convert to DataFrame\n",
    "df = pd.DataFrame(prices)\n",
    "\n",
    "# Convert time from epoch to human-readable datetime\n",
    "df['time'] = pd.to_datetime(df['time'], unit='s')\n",
    "\n",
    "print(df)\n"
   ]
  },
  {
   "cell_type": "code",
   "execution_count": null,
   "id": "77358295",
   "metadata": {},
   "outputs": [],
   "source": []
  }
 ],
 "metadata": {
  "kernelspec": {
   "display_name": "Python 3",
   "language": "python",
   "name": "python3"
  },
  "language_info": {
   "codemirror_mode": {
    "name": "ipython",
    "version": 3
   },
   "file_extension": ".py",
   "mimetype": "text/x-python",
   "name": "python",
   "nbconvert_exporter": "python",
   "pygments_lexer": "ipython3",
   "version": "3.13.6"
  }
 },
 "nbformat": 4,
 "nbformat_minor": 5
}
